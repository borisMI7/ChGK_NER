{
 "cells": [
  {
   "cell_type": "markdown",
   "id": "7fe7c481",
   "metadata": {},
   "source": [
    "---\n",
    "# Запуск модели для распознания именованных сущностей\n",
    "\n",
    "> **🎯 Цель этого ноутбука:** провести распознавание именованных сущностей в собранном датасете при помощи кастомной NER модели.\n",
    "---"
   ]
  },
  {
   "cell_type": "markdown",
   "id": "1354ae8c",
   "metadata": {},
   "source": [
    "## Импорт библиотек"
   ]
  },
  {
   "cell_type": "code",
   "execution_count": null,
   "id": "29010531",
   "metadata": {},
   "outputs": [],
   "source": [
    "import pandas as pd\n",
    "import torch\n",
    "from transformers import pipeline\n",
    "from tqdm.auto import tqdm"
   ]
  },
  {
   "cell_type": "markdown",
   "id": "5dc83d90",
   "metadata": {},
   "source": [
    "## Инференс"
   ]
  },
  {
   "cell_type": "code",
   "execution_count": null,
   "id": "6bf5865d",
   "metadata": {},
   "outputs": [],
   "source": [
    "SOURCE_DATA_PATH = \"../data/got_q_db.parquet\"\n",
    "OUTPUT_DATA_PATH = \"../data/chgk_database_with_entities.parquet\"\n",
    "MODEL_NAME = \"borisMI/ChGK_NER\"\n",
    "BATCH_SIZE = 16\n",
    "\n",
    "device = 0 if torch.cuda.is_available() else -1\n",
    "if device == 0:\n",
    "    print(f\"Используется GPU: {torch.cuda.get_device_name(0)}\")\n",
    "else:\n",
    "    print(\"Используется CPU. Обработка может занять много времени.\")\n",
    "\n",
    "print(f\"\\nЗагрузка данных из {SOURCE_DATA_PATH}...\")\n",
    "df = pd.read_parquet(SOURCE_DATA_PATH)\n",
    "print(\"Данные загружены.\")\n",
    "\n",
    "print(\"\\nСоздание колонки 'full_text'...\")\n",
    "df['question'] = df['text'].fillna('')\n",
    "df['answer'] = df['answer'].fillna('')\n",
    "df['comments'] = df['comment'].fillna('')\n",
    "df['full_text'] = df['question'] + ' ' + df['answer'] + ' ' + df['comments']\n",
    "print(\"Колонка 'full_text' создана.\")\n",
    "\n",
    "\n",
    "print(f\"\\nЗагрузка NER-модели '{MODEL_NAME}'...\")\n",
    "ner_pipeline = pipeline(\n",
    "    \"ner\",\n",
    "    model=MODEL_NAME,\n",
    "    tokenizer=MODEL_NAME,\n",
    "    aggregation_strategy=\"simple\",\n",
    "    device=device\n",
    ")\n",
    "print(\"Модель успешно загружена.\")\n",
    "tokenizer = ner_pipeline.tokenizer\n",
    "max_length = 512\n",
    "\n",
    "texts_to_process = df['full_text'].tolist()\n",
    "\n",
    "print(f\"\\nПодготовка и обрезка текстов до максимальной длины ({max_length} токенов)...\")\n",
    "truncated_texts = []\n",
    "for text in tqdm(texts_to_process, desc=\"Обрезка текстов\"):\n",
    "    tokens = tokenizer.encode(text, truncation=True, max_length=max_length)\n",
    "    truncated_text = tokenizer.decode(tokens, skip_special_tokens=True)\n",
    "    truncated_texts.append(truncated_text)\n",
    "\n",
    "print(\"Обрезка завершена.\")"
   ]
  },
  {
   "cell_type": "code",
   "execution_count": null,
   "id": "b2712ef3",
   "metadata": {},
   "outputs": [],
   "source": [
    "print(f\"\\nНачинаем извлечение сущностей. Всего текстов: {len(truncated_texts)}.\")\n",
    "\n",
    "all_entities = []\n",
    "for i in tqdm(range(0, len(truncated_texts), BATCH_SIZE), desc=\"Обработка батчей\"):\n",
    "\n",
    "    batch_texts = truncated_texts[i:i + BATCH_SIZE]\n",
    "    results = ner_pipeline(batch_texts)\n",
    "    all_entities.extend(results)\n",
    "\n",
    "print(\"Извлечение сущностей завершено.\")\n",
    "\n",
    "# Добавляем результаты в DataFrame\n",
    "df['entities'] = all_entities"
   ]
  },
  {
   "cell_type": "code",
   "execution_count": null,
   "id": "5e61aaf3",
   "metadata": {},
   "outputs": [],
   "source": [
    "context_columns = ['id', 'author', 'date', 'entities']\n",
    "\n",
    "existing_context_columns = [col for col in context_columns if col in df.columns]\n",
    "print(f\"\\nВыбираем колонки для контекста: {existing_context_columns}\")\n",
    "\n",
    "df_subset = df[existing_context_columns]\n",
    "df_exploded = df_subset.explode('entities').dropna(subset=['entities']).reset_index(drop=True)\n",
    "entity_details = pd.json_normalize(df_exploded['entities'])\n",
    "df_final = df_exploded.join(entity_details)\n",
    "df_final = df_final.drop(columns=['entities'])\n",
    "\n",
    "if 'playedAt' in df_final.columns:\n",
    "    df_final['year'] = pd.to_datetime(df_final['playedAt'], errors='coerce').dt.year\n",
    "\n",
    "print(\"\\nИтоговый структурированный DataFrame (каждая сущность в своей строке):\")\n",
    "print(df_final.info())\n",
    "print(df_final.head())\n",
    "\n",
    "OUTPUT_FILE = \"chgk_entities_structured.parquet\"\n",
    "df_final.to_parquet(OUTPUT_FILE, index=False)\n",
    "print(f\"\\nЧистые структурированные данные сохранены в файл: {OUTPUT_FILE}\")\n"
   ]
  }
 ],
 "metadata": {
  "language_info": {
   "name": "python"
  }
 },
 "nbformat": 4,
 "nbformat_minor": 5
}
