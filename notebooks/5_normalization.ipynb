{
 "cells": [
  {
   "cell_type": "markdown",
   "id": "ee7ab57c",
   "metadata": {},
   "source": [
    "---\n",
    "# Нормализация извеченных сущностей\n",
    "\n",
    "> **🎯 Цель этого ноутбука:** Нормализвать сущности, извлеченные при помощи модели, обученной на предыдущем этапе. Нормализаиция - процесс приведения текстовых упоминаний к стандартному виду \n",
    "---"
   ]
  },
  {
   "cell_type": "markdown",
   "id": "c6180c91",
   "metadata": {},
   "source": [
    "## Импорт библиотек"
   ]
  },
  {
   "cell_type": "code",
   "execution_count": 1,
   "id": "bc5d876f",
   "metadata": {},
   "outputs": [],
   "source": [
    "import pandas as pd\n",
    "import pymorphy3"
   ]
  },
  {
   "cell_type": "markdown",
   "id": "16d94bf4",
   "metadata": {},
   "source": [
    "## Нормализация"
   ]
  },
  {
   "cell_type": "code",
   "execution_count": 2,
   "id": "c46ee588",
   "metadata": {},
   "outputs": [],
   "source": [
    "df = pd.read_parquet(\"../data/chgk_entities_structured.parquet\")"
   ]
  },
  {
   "cell_type": "code",
   "execution_count": 3,
   "id": "29d502da",
   "metadata": {},
   "outputs": [
    {
     "data": {
      "application/vnd.microsoft.datawrangler.viewer.v0+json": {
       "columns": [
        {
         "name": "index",
         "rawType": "int64",
         "type": "integer"
        },
        {
         "name": "id",
         "rawType": "int64",
         "type": "integer"
        },
        {
         "name": "author",
         "rawType": "object",
         "type": "unknown"
        },
        {
         "name": "date",
         "rawType": "object",
         "type": "string"
        },
        {
         "name": "entity_group",
         "rawType": "object",
         "type": "string"
        },
        {
         "name": "score",
         "rawType": "float32",
         "type": "float"
        },
        {
         "name": "word",
         "rawType": "object",
         "type": "string"
        },
        {
         "name": "start",
         "rawType": "int64",
         "type": "integer"
        },
        {
         "name": "end",
         "rawType": "int64",
         "type": "integer"
        }
       ],
       "conversionMethod": "pd.DataFrame",
       "ref": "20d9bdd4-8120-4999-875c-2b9c6f0056c9",
       "rows": [
        [
         "0",
         "420110",
         "Андрей Скиренко",
         "2023-11-05 16:00:00",
         "LOCATION",
         "0.99897397",
         "мексики",
         "251",
         "258"
        ],
        [
         "1",
         "420111",
         "Дмитрий Рыжков",
         "2023-11-05 16:00:00",
         "PERSON",
         "0.99912953",
         "дэвид теннант",
         "19",
         "32"
        ],
        [
         "2",
         "420111",
         "Дмитрий Рыжков",
         "2023-11-05 16:00:00",
         "PERSON",
         "0.9991527",
         "маикл шин",
         "35",
         "44"
        ],
        [
         "3",
         "420111",
         "Дмитрий Рыжков",
         "2023-11-05 16:00:00",
         "PERSON",
         "0.9986304",
         "шина дэвид",
         "98",
         "108"
        ],
        [
         "4",
         "420111",
         "Дмитрий Рыжков",
         "2023-11-05 16:00:00",
         "PERSON",
         "0.9990933",
         "маикл шин",
         "192",
         "201"
        ],
        [
         "5",
         "420111",
         "Дмитрий Рыжков",
         "2023-11-05 16:00:00",
         "PERSON",
         "0.999012",
         "дэвид",
         "315",
         "320"
        ],
        [
         "6",
         "420111",
         "Дмитрий Рыжков",
         "2023-11-05 16:00:00",
         "PERSON",
         "0.9991383",
         "маикл кристофер",
         "417",
         "432"
        ],
        [
         "7",
         "420111",
         "Дмитрий Рыжков",
         "2023-11-05 16:00:00",
         "PERSON",
         "0.9989402",
         "дэвида джона",
         "441",
         "453"
        ],
        [
         "8",
         "420112",
         "Андрей Скиренко",
         "2023-11-05 16:00:00",
         "AUTHOR",
         "0.99235785",
         "ганнон",
         "27",
         "33"
        ],
        [
         "9",
         "420112",
         "Андрей Скиренко",
         "2023-11-05 16:00:00",
         "LOCATION",
         "0.90570295",
         "ра",
         "320",
         "322"
        ],
        [
         "10",
         "420112",
         "Андрей Скиренко",
         "2023-11-05 16:00:00",
         "LOCATION",
         "0.9210369",
         "гвинеиского залива",
         "326",
         "344"
        ],
        [
         "11",
         "420112",
         "Андрей Скиренко",
         "2023-11-05 16:00:00",
         "AUTHOR",
         "0.9959532",
         "ганнон",
         "363",
         "369"
        ],
        [
         "12",
         "420112",
         "Андрей Скиренко",
         "2023-11-05 16:00:00",
         "PERSON",
         "0.55968785",
         "тома",
         "692",
         "696"
        ],
        [
         "13",
         "420112",
         "Андрей Скиренко",
         "2023-11-05 16:00:00",
         "AUTHOR",
         "0.6209094",
         "##с сэвидж",
         "696",
         "704"
        ],
        [
         "14",
         "420112",
         "Андрей Скиренко",
         "2023-11-05 16:00:00",
         "PERSON",
         "0.630362",
         "джеффрис уаиман",
         "707",
         "722"
        ],
        [
         "15",
         "420112",
         "Андрей Скиренко",
         "2023-11-05 16:00:00",
         "AUTHOR",
         "0.99369776",
         "ганнона",
         "806",
         "813"
        ],
        [
         "16",
         "420112",
         "Андрей Скиренко",
         "2023-11-05 16:00:00",
         "LOCATION",
         "0.9990891",
         "африке",
         "851",
         "857"
        ],
        [
         "17",
         "420113",
         "Андрей Скиренко",
         "2023-11-05 16:00:00",
         "WORK_OF_ART",
         "0.6325631",
         "« st",
         "164",
         "168"
        ],
        [
         "18",
         "420113",
         "Андрей Скиренко",
         "2023-11-05 16:00:00",
         "WORK_OF_ART",
         "0.999085",
         "« in the army now »",
         "265",
         "284"
        ],
        [
         "19",
         "420113",
         "Андрей Скиренко",
         "2023-11-05 16:00:00",
         "AUTHOR",
         "0.99724215",
         "« boland & boland »",
         "326",
         "345"
        ],
        [
         "20",
         "420113",
         "Андрей Скиренко",
         "2023-11-05 16:00:00",
         "WORK_OF_ART",
         "0.50135285",
         "»",
         "534",
         "535"
        ],
        [
         "21",
         "420114",
         "Дмитрий Пономарёв",
         "2023-11-05 16:00:00",
         "WORK_OF_ART",
         "0.9977925",
         "« рим »",
         "14",
         "21"
        ],
        [
         "22",
         "420114",
         "Дмитрий Пономарёв",
         "2023-11-05 16:00:00",
         "PERSON",
         "0.98375607",
         "цезарь",
         "362",
         "368"
        ],
        [
         "23",
         "420114",
         "Дмитрий Пономарёв",
         "2023-11-05 16:00:00",
         "PERSON",
         "0.97612065",
         "октавиан август",
         "370",
         "385"
        ],
        [
         "24",
         "420114",
         "Дмитрий Пономарёв",
         "2023-11-05 16:00:00",
         "CHARACTER",
         "0.73670524",
         "гнеи помпеи",
         "387",
         "398"
        ],
        [
         "25",
         "420114",
         "Дмитрий Пономарёв",
         "2023-11-05 16:00:00",
         "CHARACTER",
         "0.9763889",
         "ворен",
         "426",
         "431"
        ],
        [
         "26",
         "420114",
         "Дмитрий Пономарёв",
         "2023-11-05 16:00:00",
         "CHARACTER",
         "0.9772643",
         "пуллон",
         "434",
         "440"
        ],
        [
         "27",
         "420114",
         "Дмитрий Пономарёв",
         "2023-11-05 16:00:00",
         "CHARACTER",
         "0.4899233",
         "##гам",
         "448",
         "451"
        ],
        [
         "28",
         "420114",
         "Дмитрий Пономарёв",
         "2023-11-05 16:00:00",
         "CHARACTER",
         "0.9883008",
         "клеопатре",
         "512",
         "521"
        ],
        [
         "29",
         "420115",
         "Дмитрий Пономарёв",
         "2023-11-05 16:00:00",
         "CHARACTER",
         "0.6811531",
         "пула",
         "90",
         "94"
        ],
        [
         "30",
         "420115",
         "Дмитрий Пономарёв",
         "2023-11-05 16:00:00",
         "PERSON",
         "0.5188593",
         "##ски",
         "94",
         "97"
        ],
        [
         "31",
         "420115",
         "Дмитрий Пономарёв",
         "2023-11-05 16:00:00",
         "LOCATION",
         "0.99736",
         "пуласки",
         "108",
         "115"
        ],
        [
         "32",
         "420115",
         "Дмитрий Пономарёв",
         "2023-11-05 16:00:00",
         "LOCATION",
         "0.998497",
         "теннесси",
         "122",
         "130"
        ],
        [
         "33",
         "420115",
         "Дмитрий Пономарёв",
         "2023-11-05 16:00:00",
         "WORK_OF_ART",
         "0.998815",
         "« gta san andreas »",
         "279",
         "298"
        ],
        [
         "34",
         "420115",
         "Дмитрий Пономарёв",
         "2023-11-05 16:00:00",
         "WORK_OF_ART",
         "0.8906718",
         "гэтэа сан андрэас",
         "301",
         "318"
        ],
        [
         "35",
         "420115",
         "Дмитрий Пономарёв",
         "2023-11-05 16:00:00",
         "PERSON",
         "0.99826825",
         "казимира пулавского",
         "408",
         "427"
        ],
        [
         "36",
         "420115",
         "Дмитрий Пономарёв",
         "2023-11-05 16:00:00",
         "LOCATION",
         "0.99882597",
         "сша",
         "462",
         "465"
        ],
        [
         "37",
         "420115",
         "Дмитрий Пономарёв",
         "2023-11-05 16:00:00",
         "PERSON",
         "0.99853927",
         "натан бедфорд форрест",
         "518",
         "539"
        ],
        [
         "38",
         "420115",
         "Дмитрий Пономарёв",
         "2023-11-05 16:00:00",
         "PERSON",
         "0.99769324",
         "форреста гампа",
         "556",
         "570"
        ],
        [
         "39",
         "420116",
         "Андрей Скиренко",
         "2023-11-05 16:00:00",
         "WORK_OF_ART",
         "0.9992019",
         "« the legend of zelda »",
         "391",
         "414"
        ],
        [
         "40",
         "420116",
         "Андрей Скиренко",
         "2023-11-05 16:00:00",
         "WORK_OF_ART",
         "0.9992025",
         "« the legend of zelda »",
         "558",
         "581"
        ],
        [
         "41",
         "420116",
         "Андрей Скиренко",
         "2023-11-05 16:00:00",
         "AUTHOR",
         "0.85650665",
         "[ мориса ] равеля",
         "850",
         "867"
        ],
        [
         "42",
         "420116",
         "Андрей Скиренко",
         "2023-11-05 16:00:00",
         "AUTHOR",
         "0.99824643",
         "кодзи кондо",
         "880",
         "891"
        ],
        [
         "43",
         "420116",
         "Андрей Скиренко",
         "2023-11-05 16:00:00",
         "WORK_OF_ART",
         "0.6628496",
         "«",
         "918",
         "919"
        ],
        [
         "44",
         "420116",
         "Андрей Скиренко",
         "2023-11-05 16:00:00",
         "WORK_OF_ART",
         "0.71451944",
         "болеро »",
         "920",
         "928"
        ],
        [
         "45",
         "420116",
         "Андрей Скиренко",
         "2023-11-05 16:00:00",
         "AUTHOR",
         "0.72612995",
         "морис равель",
         "933",
         "945"
        ],
        [
         "46",
         "420116",
         "Андрей Скиренко",
         "2023-11-05 16:00:00",
         "AUTHOR",
         "0.99642277",
         "кондо",
         "1063",
         "1068"
        ],
        [
         "47",
         "420117",
         "Дмитрий Пономарёв",
         "2023-11-05 16:00:00",
         "PERSON",
         "0.9845317",
         "матушке шиптон",
         "27",
         "41"
        ],
        [
         "48",
         "420117",
         "Дмитрий Пономарёв",
         "2023-11-05 16:00:00",
         "PERSON",
         "0.9972332",
         "генрих viii",
         "184",
         "195"
        ],
        [
         "49",
         "420117",
         "Дмитрий Пономарёв",
         "2023-11-05 16:00:00",
         "PERSON",
         "0.99361724",
         "[ анна ] болеин",
         "197",
         "212"
        ]
       ],
       "shape": {
        "columns": 8,
        "rows": 1129749
       }
      },
      "text/html": [
       "<div>\n",
       "<style scoped>\n",
       "    .dataframe tbody tr th:only-of-type {\n",
       "        vertical-align: middle;\n",
       "    }\n",
       "\n",
       "    .dataframe tbody tr th {\n",
       "        vertical-align: top;\n",
       "    }\n",
       "\n",
       "    .dataframe thead th {\n",
       "        text-align: right;\n",
       "    }\n",
       "</style>\n",
       "<table border=\"1\" class=\"dataframe\">\n",
       "  <thead>\n",
       "    <tr style=\"text-align: right;\">\n",
       "      <th></th>\n",
       "      <th>id</th>\n",
       "      <th>author</th>\n",
       "      <th>date</th>\n",
       "      <th>entity_group</th>\n",
       "      <th>score</th>\n",
       "      <th>word</th>\n",
       "      <th>start</th>\n",
       "      <th>end</th>\n",
       "    </tr>\n",
       "  </thead>\n",
       "  <tbody>\n",
       "    <tr>\n",
       "      <th>0</th>\n",
       "      <td>420110</td>\n",
       "      <td>Андрей Скиренко</td>\n",
       "      <td>2023-11-05 16:00:00</td>\n",
       "      <td>LOCATION</td>\n",
       "      <td>0.998974</td>\n",
       "      <td>мексики</td>\n",
       "      <td>251</td>\n",
       "      <td>258</td>\n",
       "    </tr>\n",
       "    <tr>\n",
       "      <th>1</th>\n",
       "      <td>420111</td>\n",
       "      <td>Дмитрий Рыжков</td>\n",
       "      <td>2023-11-05 16:00:00</td>\n",
       "      <td>PERSON</td>\n",
       "      <td>0.999130</td>\n",
       "      <td>дэвид теннант</td>\n",
       "      <td>19</td>\n",
       "      <td>32</td>\n",
       "    </tr>\n",
       "    <tr>\n",
       "      <th>2</th>\n",
       "      <td>420111</td>\n",
       "      <td>Дмитрий Рыжков</td>\n",
       "      <td>2023-11-05 16:00:00</td>\n",
       "      <td>PERSON</td>\n",
       "      <td>0.999153</td>\n",
       "      <td>маикл шин</td>\n",
       "      <td>35</td>\n",
       "      <td>44</td>\n",
       "    </tr>\n",
       "    <tr>\n",
       "      <th>3</th>\n",
       "      <td>420111</td>\n",
       "      <td>Дмитрий Рыжков</td>\n",
       "      <td>2023-11-05 16:00:00</td>\n",
       "      <td>PERSON</td>\n",
       "      <td>0.998630</td>\n",
       "      <td>шина дэвид</td>\n",
       "      <td>98</td>\n",
       "      <td>108</td>\n",
       "    </tr>\n",
       "    <tr>\n",
       "      <th>4</th>\n",
       "      <td>420111</td>\n",
       "      <td>Дмитрий Рыжков</td>\n",
       "      <td>2023-11-05 16:00:00</td>\n",
       "      <td>PERSON</td>\n",
       "      <td>0.999093</td>\n",
       "      <td>маикл шин</td>\n",
       "      <td>192</td>\n",
       "      <td>201</td>\n",
       "    </tr>\n",
       "    <tr>\n",
       "      <th>...</th>\n",
       "      <td>...</td>\n",
       "      <td>...</td>\n",
       "      <td>...</td>\n",
       "      <td>...</td>\n",
       "      <td>...</td>\n",
       "      <td>...</td>\n",
       "      <td>...</td>\n",
       "      <td>...</td>\n",
       "    </tr>\n",
       "    <tr>\n",
       "      <th>1129744</th>\n",
       "      <td>18785</td>\n",
       "      <td>Алексей Паевский</td>\n",
       "      <td>2000-09-02 00:00:00</td>\n",
       "      <td>AUTHOR</td>\n",
       "      <td>0.583950</td>\n",
       "      <td>верна</td>\n",
       "      <td>134</td>\n",
       "      <td>139</td>\n",
       "    </tr>\n",
       "    <tr>\n",
       "      <th>1129745</th>\n",
       "      <td>18785</td>\n",
       "      <td>Алексей Паевский</td>\n",
       "      <td>2000-09-02 00:00:00</td>\n",
       "      <td>PERSON</td>\n",
       "      <td>0.515345</td>\n",
       "      <td>##дс</td>\n",
       "      <td>139</td>\n",
       "      <td>141</td>\n",
       "    </tr>\n",
       "    <tr>\n",
       "      <th>1129746</th>\n",
       "      <td>18785</td>\n",
       "      <td>Алексей Паевский</td>\n",
       "      <td>2000-09-02 00:00:00</td>\n",
       "      <td>AUTHOR</td>\n",
       "      <td>0.544298</td>\n",
       "      <td>##кии</td>\n",
       "      <td>141</td>\n",
       "      <td>144</td>\n",
       "    </tr>\n",
       "    <tr>\n",
       "      <th>1129747</th>\n",
       "      <td>18785</td>\n",
       "      <td>Алексей Паевский</td>\n",
       "      <td>2000-09-02 00:00:00</td>\n",
       "      <td>AUTHOR</td>\n",
       "      <td>0.675261</td>\n",
       "      <td>маяковскии</td>\n",
       "      <td>146</td>\n",
       "      <td>156</td>\n",
       "    </tr>\n",
       "    <tr>\n",
       "      <th>1129748</th>\n",
       "      <td>18785</td>\n",
       "      <td>Алексей Паевский</td>\n",
       "      <td>2000-09-02 00:00:00</td>\n",
       "      <td>AUTHOR</td>\n",
       "      <td>0.540716</td>\n",
       "      <td>багрицкии</td>\n",
       "      <td>158</td>\n",
       "      <td>167</td>\n",
       "    </tr>\n",
       "  </tbody>\n",
       "</table>\n",
       "<p>1129749 rows × 8 columns</p>\n",
       "</div>"
      ],
      "text/plain": [
       "             id            author                 date entity_group     score  \\\n",
       "0        420110   Андрей Скиренко  2023-11-05 16:00:00     LOCATION  0.998974   \n",
       "1        420111    Дмитрий Рыжков  2023-11-05 16:00:00       PERSON  0.999130   \n",
       "2        420111    Дмитрий Рыжков  2023-11-05 16:00:00       PERSON  0.999153   \n",
       "3        420111    Дмитрий Рыжков  2023-11-05 16:00:00       PERSON  0.998630   \n",
       "4        420111    Дмитрий Рыжков  2023-11-05 16:00:00       PERSON  0.999093   \n",
       "...         ...               ...                  ...          ...       ...   \n",
       "1129744   18785  Алексей Паевский  2000-09-02 00:00:00       AUTHOR  0.583950   \n",
       "1129745   18785  Алексей Паевский  2000-09-02 00:00:00       PERSON  0.515345   \n",
       "1129746   18785  Алексей Паевский  2000-09-02 00:00:00       AUTHOR  0.544298   \n",
       "1129747   18785  Алексей Паевский  2000-09-02 00:00:00       AUTHOR  0.675261   \n",
       "1129748   18785  Алексей Паевский  2000-09-02 00:00:00       AUTHOR  0.540716   \n",
       "\n",
       "                  word  start  end  \n",
       "0              мексики    251  258  \n",
       "1        дэвид теннант     19   32  \n",
       "2            маикл шин     35   44  \n",
       "3           шина дэвид     98  108  \n",
       "4            маикл шин    192  201  \n",
       "...                ...    ...  ...  \n",
       "1129744          верна    134  139  \n",
       "1129745           ##дс    139  141  \n",
       "1129746          ##кии    141  144  \n",
       "1129747     маяковскии    146  156  \n",
       "1129748      багрицкии    158  167  \n",
       "\n",
       "[1129749 rows x 8 columns]"
      ]
     },
     "execution_count": 3,
     "metadata": {},
     "output_type": "execute_result"
    }
   ],
   "source": [
    "df"
   ]
  },
  {
   "cell_type": "code",
   "execution_count": 4,
   "id": "366f201e",
   "metadata": {},
   "outputs": [],
   "source": [
    "is_punctuation_only = df['word'].str.match(r'^[\\W_]+$', na=False)\n",
    "contains_hash = df['word'].str.contains('#', na=False)\n",
    "df_cleaned = df[~(is_punctuation_only | contains_hash)]"
   ]
  },
  {
   "cell_type": "code",
   "execution_count": 5,
   "id": "5f290aff",
   "metadata": {},
   "outputs": [
    {
     "name": "stderr",
     "output_type": "stream",
     "text": [
      "/var/folders/v0/x45rbc1s671ft5z86pdqjpvw0000gn/T/ipykernel_79420/444093890.py:1: SettingWithCopyWarning: \n",
      "A value is trying to be set on a copy of a slice from a DataFrame.\n",
      "Try using .loc[row_indexer,col_indexer] = value instead\n",
      "\n",
      "See the caveats in the documentation: https://pandas.pydata.org/pandas-docs/stable/user_guide/indexing.html#returning-a-view-versus-a-copy\n",
      "  df_cleaned['word'] = df_cleaned['word'].apply(lambda x: x.strip(' \\'\\\"«»”`‘‚’‹›'))\n"
     ]
    }
   ],
   "source": [
    "df_cleaned['word'] = df_cleaned['word'].apply(lambda x: x.strip(' \\'\\\"«»”`‘‚’‹›'))"
   ]
  },
  {
   "cell_type": "code",
   "execution_count": 6,
   "id": "480a6e4a",
   "metadata": {},
   "outputs": [
    {
     "name": "stderr",
     "output_type": "stream",
     "text": [
      "/var/folders/v0/x45rbc1s671ft5z86pdqjpvw0000gn/T/ipykernel_79420/1112434147.py:3: SettingWithCopyWarning: \n",
      "A value is trying to be set on a copy of a slice from a DataFrame.\n",
      "Try using .loc[row_indexer,col_indexer] = value instead\n",
      "\n",
      "See the caveats in the documentation: https://pandas.pydata.org/pandas-docs/stable/user_guide/indexing.html#returning-a-view-versus-a-copy\n",
      "  df_cleaned['word'] = df_cleaned['word'].apply(lambda x: morph.parse(x)[0].normal_form)\n"
     ]
    }
   ],
   "source": [
    "# 1. Создаем анализатор (лучше один раз, а не в цикле)\n",
    "morph = pymorphy3.MorphAnalyzer()\n",
    "df_cleaned['word'] = df_cleaned['word'].apply(lambda x: morph.parse(x)[0].normal_form)"
   ]
  },
  {
   "cell_type": "code",
   "execution_count": 7,
   "id": "786ee087",
   "metadata": {},
   "outputs": [
    {
     "name": "stderr",
     "output_type": "stream",
     "text": [
      "/var/folders/v0/x45rbc1s671ft5z86pdqjpvw0000gn/T/ipykernel_79420/2070732051.py:1: SettingWithCopyWarning: \n",
      "A value is trying to be set on a copy of a slice from a DataFrame\n",
      "\n",
      "See the caveats in the documentation: https://pandas.pydata.org/pandas-docs/stable/user_guide/indexing.html#returning-a-view-versus-a-copy\n",
      "  df_cleaned.drop_duplicates(['id', 'entity_group', 'word'], inplace=True)\n"
     ]
    }
   ],
   "source": [
    "df_cleaned.drop_duplicates(['id', 'entity_group', 'word'], inplace=True)"
   ]
  },
  {
   "cell_type": "code",
   "execution_count": 8,
   "id": "c6dd1e26",
   "metadata": {},
   "outputs": [
    {
     "name": "stdout",
     "output_type": "stream",
     "text": [
      "<class 'pandas.core.frame.DataFrame'>\n",
      "Index: 941696 entries, 0 to 1129748\n",
      "Data columns (total 8 columns):\n",
      " #   Column        Non-Null Count   Dtype  \n",
      "---  ------        --------------   -----  \n",
      " 0   id            941696 non-null  int64  \n",
      " 1   author        903331 non-null  object \n",
      " 2   date          941696 non-null  object \n",
      " 3   entity_group  941696 non-null  object \n",
      " 4   score         941696 non-null  float32\n",
      " 5   word          941696 non-null  object \n",
      " 6   start         941696 non-null  int64  \n",
      " 7   end           941696 non-null  int64  \n",
      "dtypes: float32(1), int64(3), object(4)\n",
      "memory usage: 61.1+ MB\n"
     ]
    }
   ],
   "source": [
    "df_cleaned.info()"
   ]
  },
  {
   "cell_type": "code",
   "execution_count": 9,
   "id": "abe984cd",
   "metadata": {},
   "outputs": [],
   "source": [
    "df_cleaned.to_csv(\"../data/final_ent.csv\")"
   ]
  },
  {
   "cell_type": "markdown",
   "id": "8753863a",
   "metadata": {},
   "source": [
    "## Примечание"
   ]
  },
  {
   "cell_type": "markdown",
   "id": "cec227d0",
   "metadata": {},
   "source": [
    "От качетва этого этапа в значительной степени зависит качетво дальнейшего анализа. В дальнейшем планируется выполнить данный этап с использованием более продвинутых техник, что позволит значительно увеличить качетво анализа."
   ]
  }
 ],
 "metadata": {
  "kernelspec": {
   "display_name": ".venv",
   "language": "python",
   "name": "python3"
  },
  "language_info": {
   "codemirror_mode": {
    "name": "ipython",
    "version": 3
   },
   "file_extension": ".py",
   "mimetype": "text/x-python",
   "name": "python",
   "nbconvert_exporter": "python",
   "pygments_lexer": "ipython3",
   "version": "3.13.5"
  }
 },
 "nbformat": 4,
 "nbformat_minor": 5
}
